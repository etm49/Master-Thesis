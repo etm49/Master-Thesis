{
 "cells": [
  {
   "cell_type": "code",
   "execution_count": null,
   "id": "1aa480af",
   "metadata": {},
   "outputs": [],
   "source": [
    "import pandas as pd\n",
    "import numpy as np\n",
    "import math\n",
    "\n",
    "from tqdm import tqdm\n",
    "\n",
    "from dataprep.eda import create_report\n",
    "\n",
    "from string_grouper import match_strings\n",
    "from thefuzz import fuzz, process"
   ]
  },
  {
   "cell_type": "code",
   "execution_count": null,
   "id": "7997f3bc",
   "metadata": {},
   "outputs": [],
   "source": [
    "# Import data\n",
    "userRatings = pd.read_excel(\"user_ratings.xlsx\")\n",
    "games = pd.read_excel(\"games.xlsx\")\n",
    "#userRatings_csv = pd.read_csv(\"user_ratings.csv\")"
   ]
  },
  {
   "cell_type": "code",
   "execution_count": null,
   "id": "c6258e2c",
   "metadata": {},
   "outputs": [],
   "source": []
  },
  {
   "cell_type": "code",
   "execution_count": null,
   "id": "abd65768",
   "metadata": {},
   "outputs": [],
   "source": [
    "# Turn ratings into a categorical column\n",
    "userRatings[\"BGGId\"] = userRatings[\"BGGId\"].astype('string')\n",
    "#userRatings_csv[\"BGGId\"] = userRatings_csv[\"BGGId\"].astype('string')\n",
    "games[\"BGGId\"] = games[\"BGGId\"].astype('string')"
   ]
  },
  {
   "cell_type": "code",
   "execution_count": null,
   "id": "624e9d38",
   "metadata": {},
   "outputs": [],
   "source": [
    "# check if all games IDS are valid\n",
    "assert set(userRatings[\"BGGId\"]) <= set(games[\"BGGId\"])"
   ]
  },
  {
   "cell_type": "code",
   "execution_count": null,
   "id": "aaaeeb80",
   "metadata": {},
   "outputs": [],
   "source": [
    "# Unusuall ratings found\n",
    "userRatings.describe()"
   ]
  },
  {
   "cell_type": "code",
   "execution_count": null,
   "id": "c54f94ff",
   "metadata": {},
   "outputs": [],
   "source": [
    "userRatings.info()"
   ]
  },
  {
   "cell_type": "code",
   "execution_count": null,
   "id": "9df79061",
   "metadata": {},
   "outputs": [],
   "source": [
    "userRatings[userRatings.Rating > 10] # 143 ratings larger than 10 most likely errors"
   ]
  },
  {
   "cell_type": "code",
   "execution_count": null,
   "id": "00472555",
   "metadata": {},
   "outputs": [],
   "source": []
  },
  {
   "cell_type": "markdown",
   "id": "3c2b5117",
   "metadata": {
    "hide_input": false
   },
   "source": [
    "#### Which usernames and games give unusual ratings?"
   ]
  },
  {
   "cell_type": "code",
   "execution_count": null,
   "id": "a5f748d0",
   "metadata": {},
   "outputs": [],
   "source": [
    "#\n",
    "outlierRatings = pd.concat([userRatings[userRatings.Rating > 10].groupby([\"Username\"])[\"BGGId\"].apply(list),#count()[[\"Rating\"]]\n",
    "userRatings[userRatings.Rating > 10].groupby([\"Username\"])[\"Rating\"].apply(list).reset_index(name='outlier_ratings').set_index(\"Username\"),\n",
    "userRatings[userRatings.Rating > 10].groupby([\"Username\"]).count()[\"Rating\"].reset_index(name='outlier_ratings_count').set_index(\"Username\")], axis=1)\n",
    "\n",
    "outlierRatingsTable = outlierRatings.merge(userRatings.groupby([\"Username\"]).count()[[\"Rating\"]],on=\"Username\",how=\"left\").rename(columns={\"Rating\":\"Total_ratings_count\",\"BGGId\":\"outlier_BGGId\"})\n"
   ]
  },
  {
   "cell_type": "code",
   "execution_count": null,
   "id": "f0cdf965",
   "metadata": {},
   "outputs": [],
   "source": [
    "#outlierRatingsTable.to_csv(\"Userrating outliers.csv\")"
   ]
  },
  {
   "cell_type": "code",
   "execution_count": null,
   "id": "6ce65041",
   "metadata": {},
   "outputs": [],
   "source": [
    "outlierRatingsTable = outlierRatingsTable.sort_values(by=[\"outlier_ratings_count\",\"Total_ratings_count\"], ascending=False)"
   ]
  },
  {
   "cell_type": "code",
   "execution_count": null,
   "id": "02f97421",
   "metadata": {},
   "outputs": [],
   "source": [
    "outlierRatingsTable"
   ]
  },
  {
   "cell_type": "code",
   "execution_count": null,
   "id": "de6a5e04",
   "metadata": {},
   "outputs": [],
   "source": [
    "pd.concat([userRatings[userRatings.Rating > 10].groupby([\"BGGId\"])[\"Username\"].apply(list),#count()[[\"Rating\"]]\n",
    "userRatings[userRatings.Rating > 10].groupby([\"BGGId\"])[\"Rating\"].apply(list),\n",
    "userRatings[userRatings.Rating > 10].groupby([\"BGGId\"]).count()[\"Rating\"]], axis=1)"
   ]
  },
  {
   "cell_type": "code",
   "execution_count": null,
   "id": "0b77620d",
   "metadata": {},
   "outputs": [],
   "source": [
    "userRatings[userRatings.Rating < 0].shape # no negative ratings"
   ]
  },
  {
   "cell_type": "code",
   "execution_count": null,
   "id": "2f2c3aa7",
   "metadata": {},
   "outputs": [],
   "source": [
    "#games.merge(userRatings, on=\"BGGId\", how=\"right\")"
   ]
  },
  {
   "cell_type": "code",
   "execution_count": null,
   "id": "46da99d8",
   "metadata": {},
   "outputs": [],
   "source": [
    "# remove invalid ratings\n",
    "userRatings = userRatings[userRatings.Rating <= 10]"
   ]
  },
  {
   "cell_type": "markdown",
   "id": "45e0b06e",
   "metadata": {},
   "source": [
    "#### Use of the standard  EDA packages to get some insight on the ratings variable"
   ]
  },
  {
   "cell_type": "code",
   "execution_count": null,
   "id": "21b7344d",
   "metadata": {
    "scrolled": false
   },
   "outputs": [],
   "source": [
    "create_report(userRatings)"
   ]
  },
  {
   "cell_type": "markdown",
   "id": "bfcd1154",
   "metadata": {},
   "source": [
    "### Username similarity\n",
    "\n",
    "Let's see how many are extremely similar"
   ]
  },
  {
   "cell_type": "code",
   "execution_count": null,
   "id": "bcf3d0fc",
   "metadata": {},
   "outputs": [],
   "source": []
  },
  {
   "cell_type": "code",
   "execution_count": null,
   "id": "a36fca63",
   "metadata": {},
   "outputs": [],
   "source": [
    "# Using the match strings functionality to select  similar usernames\n",
    "matches = match_strings(pd.Series(userRatings[\"Username\"].unique()),min_similarity = 0.7)\n",
    "#matches[matches['left_side'] != matches['right_side']].head()\n"
   ]
  },
  {
   "cell_type": "code",
   "execution_count": null,
   "id": "9492544b",
   "metadata": {},
   "outputs": [],
   "source": [
    "def length_Cal(data):\n",
    "    \"\"\"\n",
    "        Since match_strings returns a table with duplicate similarities \n",
    "        ( alex W and alexW will be one row and again alexW and alexW will be another column)\n",
    "        right now we are comparing the length of the usernames and returing the longer one to a list which will be made into a column\n",
    "    \"\"\"\n",
    "    lenlist = []\n",
    "    for i,r in data.iterrows():\n",
    "        lenlist.append(max([r.left_side,r.right_side],key=len))\n",
    "    return lenlist"
   ]
  },
  {
   "cell_type": "code",
   "execution_count": null,
   "id": "fbc603a8",
   "metadata": {},
   "outputs": [],
   "source": [
    "# Remove similarity measure of a username with itself. Since it will be identical to itself\n",
    "new_matches = matches[matches['left_side'] != matches['right_side']]\n",
    "\n",
    "# Remove rows that are duplicates of earch other (both rows show similarity between the same two usernames but in different order)\n",
    "new_matches[\"duplicates\"] = length_Cal(new_matches)"
   ]
  },
  {
   "cell_type": "code",
   "execution_count": null,
   "id": "d7222bc6",
   "metadata": {},
   "outputs": [],
   "source": [
    "cosine_similarity = new_matches.drop_duplicates(subset=\"duplicates\").sort_values(by=\"similarity\", ascending=False).drop(columns=[\"left_index\",\"right_index\",\"duplicates\"])\n"
   ]
  },
  {
   "cell_type": "code",
   "execution_count": null,
   "id": "3adb4ad9",
   "metadata": {},
   "outputs": [],
   "source": [
    "cosine_similarity"
   ]
  },
  {
   "cell_type": "code",
   "execution_count": null,
   "id": "18d556d6",
   "metadata": {},
   "outputs": [],
   "source": [
    "# Create a dataframe with games grouped by username\n",
    "rating_games = userRatings.groupby([\"Username\"])[\"BGGId\"].apply(list)\n",
    "rating_games = rating_games.reset_index()\n",
    "rating_games"
   ]
  },
  {
   "cell_type": "code",
   "execution_count": null,
   "id": "5694d14a",
   "metadata": {},
   "outputs": [],
   "source": [
    "# Create a dataframe with ratings grouped by username\n",
    "\n",
    "rating_list = userRatings.groupby([\"Username\"])[\"Rating\"].apply(list).reset_index()\n",
    "\n",
    "ratings_count = userRatings.groupby(\"Username\").count()[[\"Rating\"]].reset_index()\n",
    "ratings_count"
   ]
  },
  {
   "cell_type": "markdown",
   "id": "96666f08",
   "metadata": {},
   "source": [
    "#### Compile information on similar usernames \n",
    "left_side: username\n",
    "right_side: username\n",
    "\n",
    "right_rating_count: total number of ratings by user named in right_side\n",
    "left_rating_count: total number of ratings by user named in left_side\n",
    "\n",
    "right_ratings: list of all ratings by user named in right_side\n",
    "left_ratings: list of all ratings by user named in left_side\n",
    "\n",
    "right_BGGId: list of all games rated by user named in right_side\n",
    "left_BGGId: list of all games rated by user named in left_side\n",
    "\n",
    "common_games_count: number of games rated by both users named in left_side and right_side \n"
   ]
  },
  {
   "cell_type": "code",
   "execution_count": null,
   "id": "0bf631c0",
   "metadata": {},
   "outputs": [],
   "source": [
    "cosine_similarity = cosine_similarity.merge(ratings_count, right_on=\"Username\",left_on=\"right_side\",how=\"left\").drop(columns=\"Username\").rename(columns={\"Rating\":\"right_rating_count\"})\n"
   ]
  },
  {
   "cell_type": "code",
   "execution_count": null,
   "id": "3eaa8f7a",
   "metadata": {},
   "outputs": [],
   "source": [
    "cosine_similarity = ratings_count.merge(cosine_similarity, right_on=\"left_side\",left_on=\"Username\",how=\"right\").drop(columns=\"Username\").rename(columns={\"Rating\":\"left_rating_count\"})\n"
   ]
  },
  {
   "cell_type": "code",
   "execution_count": null,
   "id": "5c6ca42f",
   "metadata": {},
   "outputs": [],
   "source": [
    "cosine_similarity = cosine_similarity.merge(rating_games, right_on=\"Username\",left_on=\"right_side\",how=\"left\").drop(columns=\"Username\").rename(columns={\"BGGId\":\"right_BGGId\"})\n"
   ]
  },
  {
   "cell_type": "code",
   "execution_count": null,
   "id": "abda9acb",
   "metadata": {},
   "outputs": [],
   "source": [
    "cosine_similarity = rating_games.merge(cosine_similarity, right_on=\"left_side\",left_on=\"Username\",how=\"right\").drop(columns=\"Username\").rename(columns={\"BGGId\":\"left_BGGId\"})\n"
   ]
  },
  {
   "cell_type": "code",
   "execution_count": null,
   "id": "3caf8cec",
   "metadata": {},
   "outputs": [],
   "source": [
    "cosine_similarity = cosine_similarity.merge(rating_list, right_on=\"Username\",left_on=\"right_side\",how=\"left\").drop(columns=\"Username\").rename(columns={\"Rating\":\"right_ratings\"})\n"
   ]
  },
  {
   "cell_type": "code",
   "execution_count": null,
   "id": "b900108e",
   "metadata": {},
   "outputs": [],
   "source": [
    "cosine_similarity = rating_list.merge(cosine_similarity, right_on=\"left_side\",left_on=\"Username\",how=\"right\").drop(columns=\"Username\").rename(columns={\"Rating\":\"left_ratings\"})"
   ]
  },
  {
   "cell_type": "code",
   "execution_count": null,
   "id": "f5a64ce2",
   "metadata": {},
   "outputs": [],
   "source": [
    "def common_Cal(data):\n",
    "    \"\"\"Find a list games rated by both users with similar usernames\"\"\"\n",
    "    commonlist = []\n",
    "    for i,r in data.iterrows():\n",
    "        commonlist.append(list(set(r.right_BGGId).intersection(set(r.left_BGGId))))\n",
    "    return commonlist"
   ]
  },
  {
   "cell_type": "code",
   "execution_count": null,
   "id": "db226c84",
   "metadata": {},
   "outputs": [],
   "source": [
    "cosine_similarity[\"common_games\"] = common_Cal(cosine_similarity)"
   ]
  },
  {
   "cell_type": "code",
   "execution_count": null,
   "id": "1065ca21",
   "metadata": {},
   "outputs": [],
   "source": [
    "cosine_similarity[\"common_games_count\"] = cosine_similarity.common_games.apply(lambda x: len(x))"
   ]
  },
  {
   "cell_type": "code",
   "execution_count": null,
   "id": "db582bfc",
   "metadata": {},
   "outputs": [],
   "source": [
    "cosine_similarity = cosine_similarity.sort_values(by=[\"similarity\",\"common_games_count\"], ascending=False).drop(columns=\"common_games\")"
   ]
  },
  {
   "cell_type": "code",
   "execution_count": null,
   "id": "695e239e",
   "metadata": {},
   "outputs": [],
   "source": [
    "#cosine_similarity.to_csv(\"similar usernames.csv\")"
   ]
  },
  {
   "cell_type": "code",
   "execution_count": null,
   "id": "127e9bd6",
   "metadata": {},
   "outputs": [],
   "source": [
    "cosine_similarity#[cosine_similarity.right_side.str.contains(\"Adriano Peres\")]"
   ]
  },
  {
   "cell_type": "markdown",
   "id": "5cb694d5",
   "metadata": {},
   "source": [
    "#### Another way of finding similar usernames"
   ]
  },
  {
   "cell_type": "markdown",
   "id": "f82bff64",
   "metadata": {},
   "source": [
    "##### The fuzz package in python can be used for exploring similarity between strings. It uses Levenshtein distance but adjusts for partial similarties like when one string is a subset of another"
   ]
  },
  {
   "cell_type": "code",
   "execution_count": null,
   "id": "f2f33b3f",
   "metadata": {},
   "outputs": [],
   "source": [
    "# reference https://github.com/thuynh323/Natural-language-processing/blob/master/FuzzyWuzzy%20-%20Ramen%20Rater%20List/fuzz_match_function.py\n",
    "def get_score(unique_values, scorer, threshold):\n",
    "    \"\"\"\n",
    "    Return a table of each brand name, its corresponding\n",
    "    similar names found in the list, and their score\n",
    "    Parameters:\n",
    "    unique_value - the list of unique values\n",
    "    scorer - the selected scorer (fuzz.token_sort_ratio, fuzz.token_set_ratio)\n",
    "    threshold - the cut-off score\n",
    "    \"\"\"\n",
    "    #pd.set_option('display.max_rows', None)\n",
    "    #pd.set_option('display.max_colwidth', None)\n",
    "    \n",
    "    # Create tuples of brand names, matched brand names, and the score\n",
    "    score = [(x,) + i\n",
    "             for x in unique_values\n",
    "             for i in process.extract(x, unique_values, scorer=scorer)]\n",
    "    \n",
    "    # Create dataframe from the tuples\n",
    "    similarity = pd.DataFrame(score, columns=['value','match','score'])\n",
    "    \n",
    "    # Derive representative values\n",
    "    similarity['sorted_value'] = np.minimum(similarity['value'], similarity['match'])\n",
    "    high_score = similarity[(similarity['score'] >= threshold) &\n",
    "                            (similarity['value'] != similarity['match']) &\n",
    "                            (similarity['sorted_value'] != similarity['match'])]\n",
    "    return high_score\n",
    "    # Group matches by brand names and scores\n",
    "#     if scorer == fuzz.token_sort_ratio:\n",
    "#         result = high_score.groupby(['value','score']).agg({'match': ', '.join}).sort_values(['score'], ascending=False)\n",
    "#     if scorer == fuzz.token_set_ratio:\n",
    "#         result = high_score.groupby(['match','score']).agg({'value': ', '.join}).sort_values(['score'], ascending=False)\n",
    "#     return result\n"
   ]
  },
  {
   "cell_type": "code",
   "execution_count": null,
   "id": "e00ffd3f",
   "metadata": {},
   "outputs": [],
   "source": [
    "table = get_score(userRatings[\"Username\"].unique(), fuzz.token_set_ratio, 50)"
   ]
  },
  {
   "cell_type": "code",
   "execution_count": null,
   "id": "554ad252",
   "metadata": {},
   "outputs": [],
   "source": [
    "table.info()"
   ]
  },
  {
   "cell_type": "code",
   "execution_count": null,
   "id": "1a3d37d4",
   "metadata": {},
   "outputs": [],
   "source": [
    "table.sort_values(by=\"score\", ascending=False, inplace=True)"
   ]
  },
  {
   "cell_type": "code",
   "execution_count": null,
   "id": "d3e3a7ae",
   "metadata": {},
   "outputs": [],
   "source": [
    "table.drop(columns=\"sorted_value\", inplace=True)"
   ]
  },
  {
   "cell_type": "code",
   "execution_count": null,
   "id": "f1959651",
   "metadata": {},
   "outputs": [],
   "source": [
    "nameSimilarity = table.reset_index().merge(userRatings.groupby(\"Username\")['BGGId'].apply(list).reset_index(name='match_games'), left_on=\"match\", right_on=\"Username\", how=\"left\").merge(userRatings.groupby(\"Username\")['BGGId'].apply(list).reset_index(name='value_games'), left_on=\"value\", right_on=\"Username\", how=\"left\").drop(columns=[\"Username_x\", \"Username_y\"])\n",
    "\n",
    "\n"
   ]
  },
  {
   "cell_type": "code",
   "execution_count": null,
   "id": "9287a245",
   "metadata": {},
   "outputs": [],
   "source": [
    "nameSimilarity.info()"
   ]
  },
  {
   "cell_type": "code",
   "execution_count": null,
   "id": "7962c623",
   "metadata": {},
   "outputs": [],
   "source": [
    "nameSimilarity"
   ]
  },
  {
   "cell_type": "code",
   "execution_count": null,
   "id": "a44f8a9e",
   "metadata": {},
   "outputs": [],
   "source": [
    "def bggidSimilarity(data):\n",
    "    commonGames = []\n",
    "    for index, row in tqdm(data.iterrows()):\n",
    "        commonGames.append(len(list(set(row.match_games).intersection(row.value_games))))\n",
    "    data[\"common_games\"] = commonGames\n",
    "    return data"
   ]
  },
  {
   "cell_type": "code",
   "execution_count": null,
   "id": "9f4b1dc9",
   "metadata": {},
   "outputs": [],
   "source": [
    "nameSimilarityTested = bggidSimilarity(nameSimilarity)"
   ]
  },
  {
   "cell_type": "code",
   "execution_count": null,
   "id": "e50a40d9",
   "metadata": {},
   "outputs": [],
   "source": [
    "nameSimilarityTested"
   ]
  },
  {
   "cell_type": "code",
   "execution_count": null,
   "id": "f5d985d7",
   "metadata": {},
   "outputs": [],
   "source": [
    "nameSimilarityTested[nameSimilarityTested.common_games>0]"
   ]
  },
  {
   "cell_type": "code",
   "execution_count": null,
   "id": "0c21f90b",
   "metadata": {},
   "outputs": [],
   "source": [
    "### Next steps\n",
    "# 1. increase name similarity threshold recursively\n",
    "# 2. Merge all matches identical to a value: first check if the matches have a game in common\n",
    "# 3. Replace names dimed to represent the same user"
   ]
  },
  {
   "cell_type": "code",
   "execution_count": null,
   "id": "d6157f79",
   "metadata": {},
   "outputs": [],
   "source": [
    "#gameList = userRatings.groupby(\"Username\")['BGGId'].apply(list)\n",
    "# for index, row in tqdm(nameSimilarity.iterrows()):\n",
    "#     if type(row.value_games) != list:\n",
    "#         if (math.isnan(row.value_games)):\n",
    "#             valueGames = []\n",
    "#             for i in row.value.split(\", \"):\n",
    "#                 valueGames.extend(gameList[i])\n",
    "#             nameSimilarity.at[index,'value_games']=valueGames\n",
    "    "
   ]
  },
  {
   "cell_type": "code",
   "execution_count": null,
   "id": "f05523b3",
   "metadata": {},
   "outputs": [],
   "source": [
    "pivotedTable = userRatings.pivot_table(values=\"Rating\", index=\"Username\",columns=\"BGGId\")"
   ]
  },
  {
   "cell_type": "code",
   "execution_count": null,
   "id": "0963b7e1",
   "metadata": {},
   "outputs": [],
   "source": [
    "pivotedTable.isna().sum().sum()/(pivotedTable.shape[0]*pivotedTable.shape[1])"
   ]
  },
  {
   "cell_type": "code",
   "execution_count": null,
   "id": "2b68c95d",
   "metadata": {},
   "outputs": [],
   "source": [
    "pivotedTable.isna().sum()"
   ]
  },
  {
   "cell_type": "code",
   "execution_count": null,
   "id": "4f490d8e",
   "metadata": {},
   "outputs": [],
   "source": [
    "pivotedTable.shape"
   ]
  },
  {
   "cell_type": "code",
   "execution_count": null,
   "id": "cd7108c9",
   "metadata": {},
   "outputs": [],
   "source": [
    "#table = pd.read_csv(\"user_ratings.csv\")"
   ]
  },
  {
   "cell_type": "code",
   "execution_count": null,
   "id": "063c5336",
   "metadata": {},
   "outputs": [],
   "source": [
    "table.info()"
   ]
  },
  {
   "cell_type": "code",
   "execution_count": null,
   "id": "2ba9f1e9",
   "metadata": {},
   "outputs": [],
   "source": []
  }
 ],
 "metadata": {
  "kernelspec": {
   "display_name": "Python 3 (ipykernel)",
   "language": "python",
   "name": "python3"
  },
  "language_info": {
   "codemirror_mode": {
    "name": "ipython",
    "version": 3
   },
   "file_extension": ".py",
   "mimetype": "text/x-python",
   "name": "python",
   "nbconvert_exporter": "python",
   "pygments_lexer": "ipython3",
   "version": "3.9.0"
  }
 },
 "nbformat": 4,
 "nbformat_minor": 5
}
