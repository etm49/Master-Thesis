{
 "cells": [
  {
   "cell_type": "code",
   "execution_count": null,
   "id": "6bdd3642",
   "metadata": {},
   "outputs": [],
   "source": [
    "import pandas as pd\n",
    "import numpy as np\n",
    "import math\n",
    "import os\n",
    "\n",
    "from tqdm import tqdm\n",
    "\n",
    "from dataprep.eda import create_report\n",
    "\n",
    "from string_grouper import match_strings\n",
    "#from thefuzz import fuzz, process\n",
    "\n",
    "%matplotlib inline\n",
    "import matplotlib.pyplot as plt\n",
    "import seaborn as sns"
   ]
  },
  {
   "cell_type": "code",
   "execution_count": null,
   "id": "d14c1251",
   "metadata": {},
   "outputs": [],
   "source": [
    "# Import data\n",
    "userRatings = pd.read_excel(\"../data/user_ratings.xlsx\")"
   ]
  },
  {
   "cell_type": "code",
   "execution_count": null,
   "id": "ebdf8f35",
   "metadata": {},
   "outputs": [],
   "source": [
    "games = pd.read_excel(\"../data/games.xlsx\")\n",
    "#userRatings_csv = pd.read_csv(\"user_ratings.csv\")"
   ]
  },
  {
   "cell_type": "code",
   "execution_count": null,
   "id": "46e11b55",
   "metadata": {},
   "outputs": [],
   "source": [
    "games.BGGId.unique().shape"
   ]
  },
  {
   "cell_type": "code",
   "execution_count": null,
   "id": "c42ebdf6",
   "metadata": {},
   "outputs": [],
   "source": [
    "# Turn ratings into a categorical column\n",
    "userRatings[\"BGGId\"] = userRatings[\"BGGId\"].astype('string')\n",
    "#userRatings_csv[\"BGGId\"] = userRatings_csv[\"BGGId\"].astype('string')\n",
    "games[\"BGGId\"] = games[\"BGGId\"].astype('string')"
   ]
  },
  {
   "cell_type": "code",
   "execution_count": null,
   "id": "17f4e614",
   "metadata": {},
   "outputs": [],
   "source": [
    "# check if all games IDS are valid\n",
    "assert set(userRatings[\"BGGId\"]) <= set(games[\"BGGId\"])"
   ]
  },
  {
   "cell_type": "code",
   "execution_count": null,
   "id": "57e0e0eb",
   "metadata": {},
   "outputs": [],
   "source": [
    "# Unusuall ratings found\n",
    "userRatings.describe()"
   ]
  },
  {
   "cell_type": "code",
   "execution_count": null,
   "id": "a5b7064a",
   "metadata": {},
   "outputs": [],
   "source": [
    "userRatings.info()"
   ]
  },
  {
   "cell_type": "code",
   "execution_count": null,
   "id": "62d687dc",
   "metadata": {},
   "outputs": [],
   "source": [
    "userRatings[userRatings.Rating > 10] # 143 ratings larger than 10 most likely errors"
   ]
  },
  {
   "cell_type": "code",
   "execution_count": null,
   "id": "ebcf3695",
   "metadata": {},
   "outputs": [],
   "source": []
  },
  {
   "cell_type": "markdown",
   "id": "7d5c27bc",
   "metadata": {
    "hide_input": false
   },
   "source": [
    "#### Which usernames and games give unusual ratings?"
   ]
  },
  {
   "cell_type": "code",
   "execution_count": null,
   "id": "edda2235",
   "metadata": {},
   "outputs": [],
   "source": [
    "#\n",
    "outlierRatings = pd.concat([userRatings[userRatings.Rating > 10].groupby([\"Username\"])[\"BGGId\"].apply(list),#count()[[\"Rating\"]]\n",
    "userRatings[userRatings.Rating > 10].groupby([\"Username\"])[\"Rating\"].apply(list).reset_index(name='outlier_ratings').set_index(\"Username\"),\n",
    "userRatings[userRatings.Rating > 10].groupby([\"Username\"]).count()[\"Rating\"].reset_index(name='outlier_ratings_count').set_index(\"Username\")], axis=1)\n",
    "\n",
    "outlierRatingsTable = outlierRatings.merge(userRatings.groupby([\"Username\"]).count()[[\"Rating\"]],on=\"Username\",how=\"left\").rename(columns={\"Rating\":\"Total_ratings_count\",\"BGGId\":\"outlier_BGGId\"})\n"
   ]
  },
  {
   "cell_type": "code",
   "execution_count": null,
   "id": "45f383be",
   "metadata": {},
   "outputs": [],
   "source": [
    "#outlierRatingsTable.to_csv(\"Userrating outliers.csv\")"
   ]
  },
  {
   "cell_type": "code",
   "execution_count": null,
   "id": "89f2a8ac",
   "metadata": {},
   "outputs": [],
   "source": [
    "outlierRatingsTable = outlierRatingsTable.sort_values(by=[\"outlier_ratings_count\",\"Total_ratings_count\"], ascending=False)"
   ]
  },
  {
   "cell_type": "code",
   "execution_count": null,
   "id": "1d3409ec",
   "metadata": {},
   "outputs": [],
   "source": [
    "outlierRatingsTable"
   ]
  },
  {
   "cell_type": "code",
   "execution_count": null,
   "id": "302371d3",
   "metadata": {},
   "outputs": [],
   "source": [
    "pd.concat([userRatings[userRatings.Rating > 10].groupby([\"BGGId\"])[\"Username\"].apply(list),#count()[[\"Rating\"]]\n",
    "userRatings[userRatings.Rating > 10].groupby([\"BGGId\"])[\"Rating\"].apply(list),\n",
    "userRatings[userRatings.Rating > 10].groupby([\"BGGId\"]).count()[\"Rating\"]], axis=1)"
   ]
  },
  {
   "cell_type": "code",
   "execution_count": null,
   "id": "8df618e3",
   "metadata": {},
   "outputs": [],
   "source": [
    "userRatings[userRatings.Rating < 0].shape # no negative ratings"
   ]
  },
  {
   "cell_type": "code",
   "execution_count": null,
   "id": "1b167a1a",
   "metadata": {},
   "outputs": [],
   "source": [
    "#games.merge(userRatings, on=\"BGGId\", how=\"right\")"
   ]
  },
  {
   "cell_type": "code",
   "execution_count": null,
   "id": "984d5197",
   "metadata": {},
   "outputs": [],
   "source": [
    "# remove invalid ratings\n",
    "userRatings = userRatings[userRatings.Rating <= 10]"
   ]
  },
  {
   "cell_type": "markdown",
   "id": "b59cffaf",
   "metadata": {},
   "source": [
    "#### Use of the standard  EDA packages to get some insight on the ratings variable"
   ]
  },
  {
   "cell_type": "code",
   "execution_count": null,
   "id": "6e6c37a0",
   "metadata": {
    "scrolled": false
   },
   "outputs": [],
   "source": [
    "#create_report(userRatings)"
   ]
  },
  {
   "cell_type": "markdown",
   "id": "44482da1",
   "metadata": {},
   "source": [
    "### Username similarity\n",
    "\n",
    "Let's see how many are extremely similar"
   ]
  },
  {
   "cell_type": "code",
   "execution_count": null,
   "id": "6c31f0ed",
   "metadata": {},
   "outputs": [],
   "source": []
  },
  {
   "cell_type": "code",
   "execution_count": null,
   "id": "bc60bf90",
   "metadata": {},
   "outputs": [],
   "source": [
    "# Using the match strings functionality to select  similar usernames\n",
    "matches = match_strings(pd.Series(userRatings[\"Username\"].unique()),min_similarity = 0.7)\n",
    "#matches[matches['left_side'] != matches['right_side']].head()\n"
   ]
  },
  {
   "cell_type": "code",
   "execution_count": null,
   "id": "33523f58",
   "metadata": {},
   "outputs": [],
   "source": [
    "def length_Cal(data):\n",
    "    \"\"\"\n",
    "        Since match_strings returns a table with duplicate similarities \n",
    "        ( alex W and alexW will be one row and again alexW and alexW will be another column)\n",
    "        right now we are comparing the length of the usernames and returing the longer one to a list which will be made into a column\n",
    "    \"\"\"\n",
    "    lenlist = []\n",
    "    for i,r in data.iterrows():\n",
    "        lenlist.append(max([r.left_side,r.right_side],key=len))\n",
    "    return lenlist"
   ]
  },
  {
   "cell_type": "code",
   "execution_count": null,
   "id": "9a990080",
   "metadata": {},
   "outputs": [],
   "source": [
    "# Remove similarity measure of a username with itself. Since it will be identical to itself\n",
    "new_matches = matches[matches['left_side'] != matches['right_side']]\n",
    "\n",
    "# Remove rows that are duplicates of earch other (both rows show similarity between the same two usernames but in different order)\n",
    "new_matches[\"duplicates\"] = length_Cal(new_matches)"
   ]
  },
  {
   "cell_type": "code",
   "execution_count": null,
   "id": "54c6ff54",
   "metadata": {},
   "outputs": [],
   "source": [
    "cosine_similarity = new_matches.drop_duplicates(subset=\"duplicates\").sort_values(by=\"similarity\", ascending=False).drop(columns=[\"left_index\",\"right_index\",\"duplicates\"])\n"
   ]
  },
  {
   "cell_type": "code",
   "execution_count": null,
   "id": "5b161a82",
   "metadata": {},
   "outputs": [],
   "source": [
    "cosine_similarity"
   ]
  },
  {
   "cell_type": "code",
   "execution_count": null,
   "id": "476b1d2e",
   "metadata": {},
   "outputs": [],
   "source": [
    "# Create a dataframe with games grouped by username\n",
    "rating_games = userRatings.groupby([\"Username\"])[\"BGGId\"].apply(list)\n",
    "rating_games = rating_games.reset_index()\n",
    "rating_games"
   ]
  },
  {
   "cell_type": "code",
   "execution_count": null,
   "id": "12b330fe",
   "metadata": {},
   "outputs": [],
   "source": [
    "# Create a dataframe with ratings grouped by username\n",
    "\n",
    "rating_list = userRatings.groupby([\"Username\"])[\"Rating\"].apply(list).reset_index()\n",
    "\n",
    "ratings_count = userRatings.groupby(\"Username\").count()[[\"Rating\"]].reset_index()\n",
    "ratings_count"
   ]
  },
  {
   "cell_type": "markdown",
   "id": "2ae4a902",
   "metadata": {},
   "source": [
    "#### Compile information on similar usernames \n",
    "left_side: username\n",
    "right_side: username\n",
    "\n",
    "right_rating_count: total number of ratings by user named in right_side\n",
    "left_rating_count: total number of ratings by user named in left_side\n",
    "\n",
    "right_ratings: list of all ratings by user named in right_side\n",
    "left_ratings: list of all ratings by user named in left_side\n",
    "\n",
    "right_BGGId: list of all games rated by user named in right_side\n",
    "left_BGGId: list of all games rated by user named in left_side\n",
    "\n",
    "common_games_count: number of games rated by both users named in left_side and right_side \n"
   ]
  },
  {
   "cell_type": "code",
   "execution_count": null,
   "id": "2f30fe30",
   "metadata": {},
   "outputs": [],
   "source": [
    "cosine_similarity = cosine_similarity.merge(ratings_count, right_on=\"Username\",left_on=\"right_side\",how=\"left\").drop(columns=\"Username\").rename(columns={\"Rating\":\"right_rating_count\"})\n"
   ]
  },
  {
   "cell_type": "code",
   "execution_count": null,
   "id": "a25f3810",
   "metadata": {},
   "outputs": [],
   "source": [
    "cosine_similarity = ratings_count.merge(cosine_similarity, right_on=\"left_side\",left_on=\"Username\",how=\"right\").drop(columns=\"Username\").rename(columns={\"Rating\":\"left_rating_count\"})\n"
   ]
  },
  {
   "cell_type": "code",
   "execution_count": null,
   "id": "8a8405c2",
   "metadata": {},
   "outputs": [],
   "source": [
    "cosine_similarity = cosine_similarity.merge(rating_games, right_on=\"Username\",left_on=\"right_side\",how=\"left\").drop(columns=\"Username\").rename(columns={\"BGGId\":\"right_BGGId\"})\n"
   ]
  },
  {
   "cell_type": "code",
   "execution_count": null,
   "id": "1c4b455a",
   "metadata": {},
   "outputs": [],
   "source": [
    "cosine_similarity = rating_games.merge(cosine_similarity, right_on=\"left_side\",left_on=\"Username\",how=\"right\").drop(columns=\"Username\").rename(columns={\"BGGId\":\"left_BGGId\"})\n"
   ]
  },
  {
   "cell_type": "code",
   "execution_count": null,
   "id": "4b3fc4ba",
   "metadata": {},
   "outputs": [],
   "source": [
    "cosine_similarity = cosine_similarity.merge(rating_list, right_on=\"Username\",left_on=\"right_side\",how=\"left\").drop(columns=\"Username\").rename(columns={\"Rating\":\"right_ratings\"})\n"
   ]
  },
  {
   "cell_type": "code",
   "execution_count": null,
   "id": "617d5159",
   "metadata": {},
   "outputs": [],
   "source": [
    "cosine_similarity = rating_list.merge(cosine_similarity, right_on=\"left_side\",left_on=\"Username\",how=\"right\").drop(columns=\"Username\").rename(columns={\"Rating\":\"left_ratings\"})"
   ]
  },
  {
   "cell_type": "code",
   "execution_count": null,
   "id": "3e386e94",
   "metadata": {},
   "outputs": [],
   "source": [
    "def common_Cal(data):\n",
    "    \"\"\"Find a list games rated by both users with similar usernames\"\"\"\n",
    "    commonlist = []\n",
    "    for i,r in data.iterrows():\n",
    "        commonlist.append(list(set(r.right_BGGId).intersection(set(r.left_BGGId))))\n",
    "    return commonlist"
   ]
  },
  {
   "cell_type": "code",
   "execution_count": null,
   "id": "6648aa66",
   "metadata": {},
   "outputs": [],
   "source": [
    "cosine_similarity[\"common_games\"] = common_Cal(cosine_similarity)"
   ]
  },
  {
   "cell_type": "code",
   "execution_count": null,
   "id": "c6e043fd",
   "metadata": {},
   "outputs": [],
   "source": [
    "cosine_similarity[\"common_games_count\"] = cosine_similarity.common_games.apply(lambda x: len(x))"
   ]
  },
  {
   "cell_type": "code",
   "execution_count": null,
   "id": "71582a1d",
   "metadata": {},
   "outputs": [],
   "source": [
    "cosine_similarity = cosine_similarity.sort_values(by=[\"similarity\",\"common_games_count\"], ascending=False).drop(columns=\"common_games\")"
   ]
  },
  {
   "cell_type": "code",
   "execution_count": null,
   "id": "8e3e8e30",
   "metadata": {},
   "outputs": [],
   "source": [
    "#cosine_similarity.to_csv(\"similar usernames.csv\")"
   ]
  },
  {
   "cell_type": "code",
   "execution_count": null,
   "id": "aefac394",
   "metadata": {},
   "outputs": [],
   "source": [
    "cosine_similarity#[cosine_similarity.right_side.str.contains(\"Adriano Peres\")]"
   ]
  },
  {
   "cell_type": "markdown",
   "id": "55ef1f96",
   "metadata": {},
   "source": [
    "#### Another way of finding similar usernames"
   ]
  },
  {
   "cell_type": "markdown",
   "id": "36803db6",
   "metadata": {},
   "source": [
    "##### The fuzz package in python can be used for exploring similarity between strings. It uses Levenshtein distance but adjusts for partial similarties like when one string is a subset of another"
   ]
  },
  {
   "cell_type": "code",
   "execution_count": null,
   "id": "672fcc3f",
   "metadata": {},
   "outputs": [],
   "source": [
    "# reference https://github.com/thuynh323/Natural-language-processing/blob/master/FuzzyWuzzy%20-%20Ramen%20Rater%20List/fuzz_match_function.py\n",
    "# def get_score(unique_values, scorer, threshold):\n",
    "#     \"\"\"\n",
    "#     Return a table of each brand name, its corresponding\n",
    "#     similar names found in the list, and their score\n",
    "#     Parameters:\n",
    "#     unique_value - the list of unique values\n",
    "#     scorer - the selected scorer (fuzz.token_sort_ratio, fuzz.token_set_ratio)\n",
    "#     threshold - the cut-off score\n",
    "#     \"\"\"\n",
    "#     #pd.set_option('display.max_rows', None)\n",
    "#     #pd.set_option('display.max_colwidth', None)\n",
    "    \n",
    "#     # Create tuples of brand names, matched brand names, and the score\n",
    "#     score = [(x,) + i\n",
    "#              for x in unique_values\n",
    "#              for i in process.extract(x, unique_values, scorer=scorer)]\n",
    "    \n",
    "#     # Create dataframe from the tuples\n",
    "#     similarity = pd.DataFrame(score, columns=['value','match','score'])\n",
    "    \n",
    "#     # Derive representative values\n",
    "#     similarity['sorted_value'] = np.minimum(similarity['value'], similarity['match'])\n",
    "#     high_score = similarity[(similarity['score'] >= threshold) &\n",
    "#                             (similarity['value'] != similarity['match']) &\n",
    "#                             (similarity['sorted_value'] != similarity['match'])]\n",
    "#     return high_score\n",
    "#     # Group matches by brand names and scores\n",
    "# #     if scorer == fuzz.token_sort_ratio:\n",
    "# #         result = high_score.groupby(['value','score']).agg({'match': ', '.join}).sort_values(['score'], ascending=False)\n",
    "# #     if scorer == fuzz.token_set_ratio:\n",
    "# #         result = high_score.groupby(['match','score']).agg({'value': ', '.join}).sort_values(['score'], ascending=False)\n",
    "# #     return result\n"
   ]
  },
  {
   "cell_type": "code",
   "execution_count": null,
   "id": "f759a6a9",
   "metadata": {},
   "outputs": [],
   "source": [
    "# table = get_score(userRatings[\"Username\"].unique(), fuzz.token_set_ratio, 50)"
   ]
  },
  {
   "cell_type": "code",
   "execution_count": null,
   "id": "a7b7abd0",
   "metadata": {},
   "outputs": [],
   "source": [
    "# table.info()"
   ]
  },
  {
   "cell_type": "code",
   "execution_count": null,
   "id": "cdc7951a",
   "metadata": {},
   "outputs": [],
   "source": [
    "# table.sort_values(by=\"score\", ascending=False, inplace=True)"
   ]
  },
  {
   "cell_type": "code",
   "execution_count": null,
   "id": "da97fe61",
   "metadata": {},
   "outputs": [],
   "source": [
    "# table.drop(columns=\"sorted_value\", inplace=True)"
   ]
  },
  {
   "cell_type": "code",
   "execution_count": null,
   "id": "6a885727",
   "metadata": {},
   "outputs": [],
   "source": [
    "# nameSimilarity = table.reset_index().merge(userRatings.groupby(\"Username\")['BGGId'].apply(list).reset_index(name='match_games'), left_on=\"match\", right_on=\"Username\", how=\"left\").merge(userRatings.groupby(\"Username\")['BGGId'].apply(list).reset_index(name='value_games'), left_on=\"value\", right_on=\"Username\", how=\"left\").drop(columns=[\"Username_x\", \"Username_y\"])\n",
    "\n",
    "\n"
   ]
  },
  {
   "cell_type": "code",
   "execution_count": null,
   "id": "0c1670a0",
   "metadata": {},
   "outputs": [],
   "source": [
    "# nameSimilarity.info()"
   ]
  },
  {
   "cell_type": "code",
   "execution_count": null,
   "id": "1b0c7b27",
   "metadata": {},
   "outputs": [],
   "source": [
    "# nameSimilarity"
   ]
  },
  {
   "cell_type": "code",
   "execution_count": null,
   "id": "81e586ac",
   "metadata": {},
   "outputs": [],
   "source": [
    "# def bggidSimilarity(data):\n",
    "#     commonGames = []\n",
    "#     for index, row in tqdm(data.iterrows()):\n",
    "#         commonGames.append(len(list(set(row.match_games).intersection(row.value_games))))\n",
    "#     data[\"common_games\"] = commonGames\n",
    "#     return data"
   ]
  },
  {
   "cell_type": "code",
   "execution_count": null,
   "id": "34567f8c",
   "metadata": {},
   "outputs": [],
   "source": [
    "# nameSimilarityTested = bggidSimilarity(nameSimilarity)"
   ]
  },
  {
   "cell_type": "code",
   "execution_count": null,
   "id": "6627ae15",
   "metadata": {},
   "outputs": [],
   "source": [
    "# nameSimilarityTested"
   ]
  },
  {
   "cell_type": "code",
   "execution_count": null,
   "id": "008c59ed",
   "metadata": {},
   "outputs": [],
   "source": [
    "# nameSimilarityTested[nameSimilarityTested.common_games>0]"
   ]
  },
  {
   "cell_type": "code",
   "execution_count": null,
   "id": "5b77437e",
   "metadata": {},
   "outputs": [],
   "source": [
    "### Next steps\n",
    "# 1. increase name similarity threshold recursively\n",
    "# 2. Merge all matches identical to a value: first check if the matches have a game in common\n",
    "# 3. Replace names dimed to represent the same user"
   ]
  },
  {
   "cell_type": "code",
   "execution_count": null,
   "id": "3cd0e877",
   "metadata": {},
   "outputs": [],
   "source": [
    "#gameList = userRatings.groupby(\"Username\")['BGGId'].apply(list)\n",
    "# for index, row in tqdm(nameSimilarity.iterrows()):\n",
    "#     if type(row.value_games) != list:\n",
    "#         if (math.isnan(row.value_games)):\n",
    "#             valueGames = []\n",
    "#             for i in row.value.split(\", \"):\n",
    "#                 valueGames.extend(gameList[i])\n",
    "#             nameSimilarity.at[index,'value_games']=valueGames\n",
    "    "
   ]
  },
  {
   "cell_type": "code",
   "execution_count": null,
   "id": "f23301c2",
   "metadata": {},
   "outputs": [],
   "source": [
    "# merge similar usernames\n",
    "similar_usernames = pd.read_csv(\"../data/similar_usernames.csv\", header=1, index_col=0)"
   ]
  },
  {
   "cell_type": "code",
   "execution_count": null,
   "id": "1d1f682a",
   "metadata": {},
   "outputs": [],
   "source": [
    "renames = dict(zip(similar_usernames.left_side.values.tolist(), similar_usernames.right_side.values.tolist()))\n"
   ]
  },
  {
   "cell_type": "code",
   "execution_count": null,
   "id": "97244e3c",
   "metadata": {},
   "outputs": [],
   "source": [
    "reducedUsername = []\n",
    "for index, row in tqdm(userRatings.iterrows()):\n",
    "    if row.Username in renames.keys():\n",
    "        reducedUsername.append(renames[row.Username])\n",
    "    else:\n",
    "        reducedUsername.append(row.Username)"
   ]
  },
  {
   "cell_type": "code",
   "execution_count": null,
   "id": "4da154cd",
   "metadata": {},
   "outputs": [],
   "source": [
    "userRatings[\"reducedUsername\"]= reducedUsername"
   ]
  },
  {
   "cell_type": "code",
   "execution_count": null,
   "id": "296cf989",
   "metadata": {},
   "outputs": [],
   "source": [
    "userRatings[userRatings.Username=='aersult']"
   ]
  },
  {
   "cell_type": "code",
   "execution_count": null,
   "id": "acd0fb4b",
   "metadata": {},
   "outputs": [],
   "source": [
    "userRatings[userRatings.reducedUsername=='aersult']"
   ]
  },
  {
   "cell_type": "code",
   "execution_count": null,
   "id": "07944d56",
   "metadata": {},
   "outputs": [],
   "source": [
    "# userRatings.to_csv(\"../data/reducedUserRatings.csv\")"
   ]
  },
  {
   "cell_type": "markdown",
   "id": "8b7143ce",
   "metadata": {},
   "source": [
    "### EDA"
   ]
  },
  {
   "cell_type": "code",
   "execution_count": null,
   "id": "6177d547",
   "metadata": {},
   "outputs": [],
   "source": [
    "userRatings = pd.read_csv(\"../data/reducedUserRatings.csv\", index_col=0) # issues with outliers and usernames already fixed"
   ]
  },
  {
   "cell_type": "code",
   "execution_count": null,
   "id": "413fdbbd",
   "metadata": {},
   "outputs": [],
   "source": [
    "# Create a rating matrix\n",
    "ratingMatrix = userRatings.pivot_table(values=\"Rating\", index=\"reducedUsername\",columns=\"BGGId\")"
   ]
  },
  {
   "cell_type": "code",
   "execution_count": null,
   "id": "bc63d1e1",
   "metadata": {},
   "outputs": [],
   "source": [
    "ratingMatrix.isna().sum().sum()/(ratingMatrix.shape[0]*ratingMatrix.shape[1])"
   ]
  },
  {
   "cell_type": "code",
   "execution_count": null,
   "id": "8dd3f890",
   "metadata": {},
   "outputs": [],
   "source": [
    "ratingMatrix.isna().sum().sum()/(ratingMatrix.shape[0]*ratingMatrix.shape[1])"
   ]
  },
  {
   "cell_type": "code",
   "execution_count": null,
   "id": "375811cc",
   "metadata": {},
   "outputs": [],
   "source": [
    "# pivotedTable.isna().sum()"
   ]
  },
  {
   "cell_type": "code",
   "execution_count": null,
   "id": "5d99de63",
   "metadata": {},
   "outputs": [],
   "source": [
    "# pivotedTable.shape"
   ]
  },
  {
   "cell_type": "code",
   "execution_count": null,
   "id": "241c1c44",
   "metadata": {},
   "outputs": [],
   "source": [
    "#table = pd.read_csv(\"user_ratings.csv\")"
   ]
  },
  {
   "cell_type": "code",
   "execution_count": null,
   "id": "b4622e19",
   "metadata": {},
   "outputs": [],
   "source": [
    "# table.info()"
   ]
  },
  {
   "cell_type": "code",
   "execution_count": null,
   "id": "2816fa67",
   "metadata": {},
   "outputs": [],
   "source": [
    "ratingMatrix"
   ]
  },
  {
   "cell_type": "code",
   "execution_count": null,
   "id": "ab295168",
   "metadata": {},
   "outputs": [],
   "source": [
    "ratingMatrix.isna().sum()"
   ]
  },
  {
   "cell_type": "code",
   "execution_count": null,
   "id": "10ed6ea5",
   "metadata": {},
   "outputs": [],
   "source": [
    "# Properties of ratings_counts by games\n",
    "ratingbygames = userRatings.groupby(\"BGGId\").count().sort_values(by=\"Rating\").reset_index()[[\"BGGId\",\"Rating\"]]"
   ]
  },
  {
   "cell_type": "code",
   "execution_count": null,
   "id": "b4031b70",
   "metadata": {},
   "outputs": [],
   "source": [
    "\n",
    "ratingbygames.Rating.mean()"
   ]
  },
  {
   "cell_type": "code",
   "execution_count": null,
   "id": "ca08d097",
   "metadata": {},
   "outputs": [],
   "source": [
    "ratingbygames.Rating.std()"
   ]
  },
  {
   "cell_type": "code",
   "execution_count": null,
   "id": "1a3a09b1",
   "metadata": {},
   "outputs": [],
   "source": [
    "# create_report(ratingbygames)"
   ]
  },
  {
   "cell_type": "code",
   "execution_count": null,
   "id": "b64435df",
   "metadata": {},
   "outputs": [],
   "source": [
    "\n",
    "ratingsbygameextended = games.merge(ratingbygames, on=\"BGGId\",how=\"right\")"
   ]
  },
  {
   "cell_type": "code",
   "execution_count": null,
   "id": "44c91edd",
   "metadata": {},
   "outputs": [],
   "source": [
    "ratingsbygameextended.tail(10)"
   ]
  },
  {
   "cell_type": "code",
   "execution_count": null,
   "id": "022d8046",
   "metadata": {},
   "outputs": [],
   "source": [
    "# ratingsbygameextended.sum()"
   ]
  },
  {
   "cell_type": "code",
   "execution_count": null,
   "id": "00a00cfd",
   "metadata": {},
   "outputs": [],
   "source": [
    "# Properties of ratings counts by users\n",
    "ratingbyusers = userRatings.groupby(\"reducedUsername\").count().sort_values(by=\"Rating\").reset_index()[[\"reducedUsername\",\"Rating\"]]"
   ]
  },
  {
   "cell_type": "code",
   "execution_count": null,
   "id": "f97bd7f8",
   "metadata": {},
   "outputs": [],
   "source": [
    "ratingbyusers.plot()"
   ]
  },
  {
   "cell_type": "code",
   "execution_count": null,
   "id": "6b0d7ade",
   "metadata": {},
   "outputs": [],
   "source": [
    "# create_report(ratingbyusers)"
   ]
  },
  {
   "cell_type": "code",
   "execution_count": null,
   "id": "bac7a1ab",
   "metadata": {},
   "outputs": [],
   "source": [
    "# ratingbyusers.Rating.plot.hist(grid=True, bins='auto', rwidth=0.9,\n",
    "#                    color='#607c8e')\n",
    "# plt.title('Distribution of rating across users')\n",
    "# plt.xlabel('Counts')\n",
    "# plt.ylabel('frequency')\n",
    "# plt.grid(axis='y', alpha=0.75)\n",
    "\n",
    "sns.distplot(ratingbyusers.Rating)"
   ]
  },
  {
   "cell_type": "code",
   "execution_count": null,
   "id": "c89b7e48",
   "metadata": {},
   "outputs": [],
   "source": [
    "# Properties of ratings by year\n",
    "#ratingsbyyear = ratingsbygameextended[ratingsbygameextended.YearPublished >1980].groupby(\"YearPublished\").sum()[[\"Rating\"]].reset_index()\n",
    "\n",
    "ratingsextended = games.merge(userRatings, on=\"BGGId\",how=\"right\")\n",
    "\n",
    "\n",
    "sns.boxplot( x=ratingsextended[ratingsextended.YearPublished >2000][\"YearPublished\"], y=ratingsextended[ratingsextended.YearPublished >1980][\"Rating\"] )\n",
    "\n"
   ]
  },
  {
   "cell_type": "code",
   "execution_count": null,
   "id": "c3272fd4",
   "metadata": {},
   "outputs": [],
   "source": [
    "# Properties of rating values by games\n",
    "ratingvaluesgame = pd.concat([userRatings.groupby(\"BGGId\")[\"Rating\"].apply(list).reset_index(name='rating_values').set_index(\"BGGId\"),\n",
    "                                 userRatings.groupby(\"BGGId\")[\"Rating\"].apply(len).reset_index(name='rating_count').set_index(\"BGGId\")], axis=1)\n",
    "\n",
    "\n"
   ]
  },
  {
   "cell_type": "code",
   "execution_count": null,
   "id": "1244af5c",
   "metadata": {},
   "outputs": [],
   "source": [
    "from scipy import stats"
   ]
  },
  {
   "cell_type": "code",
   "execution_count": null,
   "id": "f18f3d35",
   "metadata": {},
   "outputs": [],
   "source": [
    "minimum = []\n",
    "maximum = []\n",
    "mean = []\n",
    "variance = []\n",
    "skewness = []\n",
    "kurtosis = []\n",
    "for index,row in tqdm(ratingvaluesgame.iterrows()):\n",
    "    descriptions = stats.describe(row.rating_values)\n",
    "    minimum.append(descriptions.minmax[0])\n",
    "    maximum.append(descriptions.minmax[1])\n",
    "    mean.append(descriptions.mean)\n",
    "    variance.append(descriptions.variance)\n",
    "    skewness.append(descriptions.skewness)\n",
    "    kurtosis.append(descriptions.kurtosis)\n",
    "    \n",
    "ratingvaluesgame[\"minimum\"] = minimum\n",
    "ratingvaluesgame[\"maximum\"] = maximum\n",
    "ratingvaluesgame[\"mean\"] = mean\n",
    "ratingvaluesgame[\"variance\"] = variance\n",
    "ratingvaluesgame[\"skewness\"] = skewness\n",
    "ratingvaluesgame[\"kurtosis\"] = kurtosis\n"
   ]
  },
  {
   "cell_type": "code",
   "execution_count": null,
   "id": "6a5e133f",
   "metadata": {},
   "outputs": [],
   "source": [
    "print(ratingvaluesgame[ratingvaluesgame.rating_count >= 30].drop(columns=\"rating_values\").sort_values(by=\"rating_count\").to_latex())"
   ]
  },
  {
   "cell_type": "code",
   "execution_count": null,
   "id": "830d9bfb",
   "metadata": {},
   "outputs": [],
   "source": [
    "ratingvaluesgame.hist()"
   ]
  },
  {
   "cell_type": "code",
   "execution_count": null,
   "id": "843d4365",
   "metadata": {},
   "outputs": [],
   "source": [
    "ratingvaluesgame[(ratingvaluesgame.rating_count > 2) &(ratingvaluesgame.rating_count < 30)]"
   ]
  },
  {
   "cell_type": "code",
   "execution_count": null,
   "id": "c6104a50",
   "metadata": {},
   "outputs": [],
   "source": [
    "# properties of rating values by users\n",
    "ratingvaluesuser = pd.concat([userRatings.groupby(\"reducedUsername\")[\"Rating\"].apply(list).reset_index(name='rating_values').set_index(\"reducedUsername\"),\n",
    "                                 userRatings.groupby(\"reducedUsername\")[\"Rating\"].apply(len).reset_index(name='rating_count').set_index(\"reducedUsername\")], axis=1)\n",
    "\n",
    "\n",
    "minimum = []\n",
    "maximum = []\n",
    "mean = []\n",
    "variance = []\n",
    "skewness = []\n",
    "kurtosis = []\n",
    "for index,row in tqdm(ratingvaluesuser.iterrows()):\n",
    "    descriptions = stats.describe(row.rating_values)\n",
    "    minimum.append(descriptions.minmax[0])\n",
    "    maximum.append(descriptions.minmax[1])\n",
    "    mean.append(descriptions.mean)\n",
    "    variance.append(descriptions.variance)\n",
    "    skewness.append(descriptions.skewness)\n",
    "    kurtosis.append(descriptions.kurtosis)\n",
    "    \n",
    "ratingvaluesuser[\"minimum\"] = minimum\n",
    "ratingvaluesuser[\"maximum\"] = maximum\n",
    "ratingvaluesuser[\"mean\"] = mean\n",
    "ratingvaluesuser[\"variance\"] = variance\n",
    "ratingvaluesuser[\"skewness\"] = skewness\n",
    "ratingvaluesuser[\"kurtosis\"] = kurtosis"
   ]
  },
  {
   "cell_type": "code",
   "execution_count": null,
   "id": "d62e7c82",
   "metadata": {},
   "outputs": [],
   "source": [
    "ratingvaluesuser.sort_values(by=[\"rating_count\",\"mean\",\"variance\"], inplace=True)"
   ]
  },
  {
   "cell_type": "code",
   "execution_count": null,
   "id": "fd179e0b",
   "metadata": {},
   "outputs": [],
   "source": [
    "ratingvaluesuser"
   ]
  },
  {
   "cell_type": "code",
   "execution_count": null,
   "id": "45a475c2",
   "metadata": {},
   "outputs": [],
   "source": [
    "ratingvaluesuser.hist(column=\"mean\", grid=False)"
   ]
  },
  {
   "cell_type": "code",
   "execution_count": null,
   "id": "7dbc2c06",
   "metadata": {},
   "outputs": [],
   "source": [
    "print(ratingvaluesuser[ratingvaluesuser.rating_count >=100].drop(columns=\"rating_values\").to_latex())"
   ]
  },
  {
   "cell_type": "code",
   "execution_count": null,
   "id": "77d36af3",
   "metadata": {},
   "outputs": [],
   "source": []
  }
 ],
 "metadata": {
  "kernelspec": {
   "display_name": "Python 3 (ipykernel)",
   "language": "python",
   "name": "python3"
  },
  "language_info": {
   "codemirror_mode": {
    "name": "ipython",
    "version": 3
   },
   "file_extension": ".py",
   "mimetype": "text/x-python",
   "name": "python",
   "nbconvert_exporter": "python",
   "pygments_lexer": "ipython3",
   "version": "3.9.0"
  }
 },
 "nbformat": 4,
 "nbformat_minor": 5
}
