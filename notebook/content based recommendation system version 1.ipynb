{
 "cells": [
  {
   "cell_type": "markdown",
   "id": "3fa8d0a6",
   "metadata": {},
   "source": [
    "## content-based recommendation system \n",
    "### Based-on column 'Description'"
   ]
  },
  {
   "cell_type": "code",
   "execution_count": 1,
   "id": "d975e268",
   "metadata": {},
   "outputs": [],
   "source": [
    "import pandas as pd\n",
    "import numpy as np"
   ]
  },
  {
   "cell_type": "code",
   "execution_count": 2,
   "id": "95513c50",
   "metadata": {},
   "outputs": [
    {
     "data": {
      "text/html": [
       "<div>\n",
       "<style scoped>\n",
       "    .dataframe tbody tr th:only-of-type {\n",
       "        vertical-align: middle;\n",
       "    }\n",
       "\n",
       "    .dataframe tbody tr th {\n",
       "        vertical-align: top;\n",
       "    }\n",
       "\n",
       "    .dataframe thead th {\n",
       "        text-align: right;\n",
       "    }\n",
       "</style>\n",
       "<table border=\"1\" class=\"dataframe\">\n",
       "  <thead>\n",
       "    <tr style=\"text-align: right;\">\n",
       "      <th></th>\n",
       "      <th>BGGId</th>\n",
       "      <th>Name</th>\n",
       "      <th>Description</th>\n",
       "      <th>YearPublished</th>\n",
       "      <th>GameWeight</th>\n",
       "      <th>AvgRating</th>\n",
       "      <th>BayesAvgRating</th>\n",
       "      <th>StdDev</th>\n",
       "      <th>MinPlayers</th>\n",
       "      <th>MaxPlayers</th>\n",
       "      <th>...</th>\n",
       "      <th>Rank:partygames</th>\n",
       "      <th>Rank:childrensgames</th>\n",
       "      <th>Cat:Thematic</th>\n",
       "      <th>Cat:Strategy</th>\n",
       "      <th>Cat:War</th>\n",
       "      <th>Cat:Family</th>\n",
       "      <th>Cat:CGS</th>\n",
       "      <th>Cat:Abstract</th>\n",
       "      <th>Cat:Party</th>\n",
       "      <th>Cat:Childrens</th>\n",
       "    </tr>\n",
       "  </thead>\n",
       "  <tbody>\n",
       "    <tr>\n",
       "      <th>0</th>\n",
       "      <td>1</td>\n",
       "      <td>Die Macher</td>\n",
       "      <td>die macher game seven sequential political rac...</td>\n",
       "      <td>1986</td>\n",
       "      <td>43206.0</td>\n",
       "      <td>761428.0</td>\n",
       "      <td>710363.0</td>\n",
       "      <td>157979.0</td>\n",
       "      <td>3</td>\n",
       "      <td>5</td>\n",
       "      <td>...</td>\n",
       "      <td>21926</td>\n",
       "      <td>21926</td>\n",
       "      <td>0</td>\n",
       "      <td>1</td>\n",
       "      <td>0</td>\n",
       "      <td>0</td>\n",
       "      <td>0</td>\n",
       "      <td>0</td>\n",
       "      <td>0</td>\n",
       "      <td>0</td>\n",
       "    </tr>\n",
       "    <tr>\n",
       "      <th>1</th>\n",
       "      <td>2</td>\n",
       "      <td>Dragonmaster</td>\n",
       "      <td>dragonmaster tricktaking card game base old ga...</td>\n",
       "      <td>1981</td>\n",
       "      <td>1963.0</td>\n",
       "      <td>664537.0</td>\n",
       "      <td>578447.0</td>\n",
       "      <td>14544.0</td>\n",
       "      <td>3</td>\n",
       "      <td>4</td>\n",
       "      <td>...</td>\n",
       "      <td>21926</td>\n",
       "      <td>21926</td>\n",
       "      <td>0</td>\n",
       "      <td>1</td>\n",
       "      <td>0</td>\n",
       "      <td>0</td>\n",
       "      <td>0</td>\n",
       "      <td>0</td>\n",
       "      <td>0</td>\n",
       "      <td>0</td>\n",
       "    </tr>\n",
       "    <tr>\n",
       "      <th>2</th>\n",
       "      <td>3</td>\n",
       "      <td>Samurai</td>\n",
       "      <td>samurai set medieval japan player compete gain...</td>\n",
       "      <td>1998</td>\n",
       "      <td>24859.0</td>\n",
       "      <td>745601.0</td>\n",
       "      <td>723994.0</td>\n",
       "      <td>118227.0</td>\n",
       "      <td>2</td>\n",
       "      <td>4</td>\n",
       "      <td>...</td>\n",
       "      <td>21926</td>\n",
       "      <td>21926</td>\n",
       "      <td>0</td>\n",
       "      <td>1</td>\n",
       "      <td>0</td>\n",
       "      <td>0</td>\n",
       "      <td>0</td>\n",
       "      <td>0</td>\n",
       "      <td>0</td>\n",
       "      <td>0</td>\n",
       "    </tr>\n",
       "    <tr>\n",
       "      <th>3</th>\n",
       "      <td>4</td>\n",
       "      <td>Tal der KÃ¶nige</td>\n",
       "      <td>triangular box luxurious large block tal der k...</td>\n",
       "      <td>1992</td>\n",
       "      <td>26667.0</td>\n",
       "      <td>660006.0</td>\n",
       "      <td>567954.0</td>\n",
       "      <td>123129.0</td>\n",
       "      <td>2</td>\n",
       "      <td>4</td>\n",
       "      <td>...</td>\n",
       "      <td>21926</td>\n",
       "      <td>21926</td>\n",
       "      <td>0</td>\n",
       "      <td>0</td>\n",
       "      <td>0</td>\n",
       "      <td>0</td>\n",
       "      <td>0</td>\n",
       "      <td>0</td>\n",
       "      <td>0</td>\n",
       "      <td>0</td>\n",
       "    </tr>\n",
       "    <tr>\n",
       "      <th>4</th>\n",
       "      <td>5</td>\n",
       "      <td>Acquire</td>\n",
       "      <td>acquire player strategically invest business t...</td>\n",
       "      <td>1964</td>\n",
       "      <td>25031.0</td>\n",
       "      <td>733861.0</td>\n",
       "      <td>714189.0</td>\n",
       "      <td>133583.0</td>\n",
       "      <td>2</td>\n",
       "      <td>6</td>\n",
       "      <td>...</td>\n",
       "      <td>21926</td>\n",
       "      <td>21926</td>\n",
       "      <td>0</td>\n",
       "      <td>1</td>\n",
       "      <td>0</td>\n",
       "      <td>0</td>\n",
       "      <td>0</td>\n",
       "      <td>0</td>\n",
       "      <td>0</td>\n",
       "      <td>0</td>\n",
       "    </tr>\n",
       "  </tbody>\n",
       "</table>\n",
       "<p>5 rows × 48 columns</p>\n",
       "</div>"
      ],
      "text/plain": [
       "   BGGId             Name                                        Description  \\\n",
       "0      1       Die Macher  die macher game seven sequential political rac...   \n",
       "1      2     Dragonmaster  dragonmaster tricktaking card game base old ga...   \n",
       "2      3          Samurai  samurai set medieval japan player compete gain...   \n",
       "3      4  Tal der KÃ¶nige  triangular box luxurious large block tal der k...   \n",
       "4      5          Acquire  acquire player strategically invest business t...   \n",
       "\n",
       "   YearPublished  GameWeight  AvgRating  BayesAvgRating    StdDev  MinPlayers  \\\n",
       "0           1986     43206.0   761428.0        710363.0  157979.0           3   \n",
       "1           1981      1963.0   664537.0        578447.0   14544.0           3   \n",
       "2           1998     24859.0   745601.0        723994.0  118227.0           2   \n",
       "3           1992     26667.0   660006.0        567954.0  123129.0           2   \n",
       "4           1964     25031.0   733861.0        714189.0  133583.0           2   \n",
       "\n",
       "   MaxPlayers  ...  Rank:partygames  Rank:childrensgames  Cat:Thematic  \\\n",
       "0           5  ...            21926                21926             0   \n",
       "1           4  ...            21926                21926             0   \n",
       "2           4  ...            21926                21926             0   \n",
       "3           4  ...            21926                21926             0   \n",
       "4           6  ...            21926                21926             0   \n",
       "\n",
       "  Cat:Strategy  Cat:War  Cat:Family  Cat:CGS  Cat:Abstract  Cat:Party  \\\n",
       "0            1        0           0        0             0          0   \n",
       "1            1        0           0        0             0          0   \n",
       "2            1        0           0        0             0          0   \n",
       "3            0        0           0        0             0          0   \n",
       "4            1        0           0        0             0          0   \n",
       "\n",
       "   Cat:Childrens  \n",
       "0              0  \n",
       "1              0  \n",
       "2              0  \n",
       "3              0  \n",
       "4              0  \n",
       "\n",
       "[5 rows x 48 columns]"
      ]
     },
     "execution_count": 2,
     "metadata": {},
     "output_type": "execute_result"
    }
   ],
   "source": [
    "games_df = pd.read_excel(\"games.xlsx\")\n",
    "games_df.head()"
   ]
  },
  {
   "cell_type": "code",
   "execution_count": 25,
   "id": "c356a7bb",
   "metadata": {},
   "outputs": [
    {
     "name": "stdout",
     "output_type": "stream",
     "text": [
      "Number of unique games: 21925\n"
     ]
    }
   ],
   "source": [
    "# Number of records in original games_df\n",
    "print(\"Number of unique games: \" + str(games_df.shape[0]))"
   ]
  },
  {
   "cell_type": "code",
   "execution_count": 22,
   "id": "2072747f",
   "metadata": {},
   "outputs": [
    {
     "name": "stdout",
     "output_type": "stream",
     "text": [
      "Number of unique games names: 21521\n"
     ]
    }
   ],
   "source": [
    "# NUmber of unique games names\n",
    "print(\"Number of unique games names: \" + str(len(games_df['Name'].unique())))"
   ]
  },
  {
   "cell_type": "code",
   "execution_count": 4,
   "id": "9423ea52",
   "metadata": {},
   "outputs": [
    {
     "data": {
      "text/html": [
       "<div>\n",
       "<style scoped>\n",
       "    .dataframe tbody tr th:only-of-type {\n",
       "        vertical-align: middle;\n",
       "    }\n",
       "\n",
       "    .dataframe tbody tr th {\n",
       "        vertical-align: top;\n",
       "    }\n",
       "\n",
       "    .dataframe thead th {\n",
       "        text-align: right;\n",
       "    }\n",
       "</style>\n",
       "<table border=\"1\" class=\"dataframe\">\n",
       "  <thead>\n",
       "    <tr style=\"text-align: right;\">\n",
       "      <th></th>\n",
       "      <th>BGGId</th>\n",
       "      <th>Name</th>\n",
       "      <th>Description</th>\n",
       "      <th>YearPublished</th>\n",
       "      <th>GameWeight</th>\n",
       "      <th>AvgRating</th>\n",
       "      <th>BayesAvgRating</th>\n",
       "      <th>StdDev</th>\n",
       "      <th>MinPlayers</th>\n",
       "      <th>MaxPlayers</th>\n",
       "      <th>...</th>\n",
       "      <th>Rank:partygames</th>\n",
       "      <th>Rank:childrensgames</th>\n",
       "      <th>Cat:Thematic</th>\n",
       "      <th>Cat:Strategy</th>\n",
       "      <th>Cat:War</th>\n",
       "      <th>Cat:Family</th>\n",
       "      <th>Cat:CGS</th>\n",
       "      <th>Cat:Abstract</th>\n",
       "      <th>Cat:Party</th>\n",
       "      <th>Cat:Childrens</th>\n",
       "    </tr>\n",
       "  </thead>\n",
       "  <tbody>\n",
       "    <tr>\n",
       "      <th>2</th>\n",
       "      <td>3</td>\n",
       "      <td>Samurai</td>\n",
       "      <td>samurai set medieval japan player compete gain...</td>\n",
       "      <td>1998</td>\n",
       "      <td>24859.00</td>\n",
       "      <td>745601.0</td>\n",
       "      <td>723994.0</td>\n",
       "      <td>118227.0</td>\n",
       "      <td>2</td>\n",
       "      <td>4</td>\n",
       "      <td>...</td>\n",
       "      <td>21926</td>\n",
       "      <td>21926</td>\n",
       "      <td>0</td>\n",
       "      <td>1</td>\n",
       "      <td>0</td>\n",
       "      <td>0</td>\n",
       "      <td>0</td>\n",
       "      <td>0</td>\n",
       "      <td>0</td>\n",
       "      <td>0</td>\n",
       "    </tr>\n",
       "    <tr>\n",
       "      <th>2125</th>\n",
       "      <td>3061</td>\n",
       "      <td>Samurai</td>\n",
       "      <td>gmt websitesamurai fifth entry awardwinne grea...</td>\n",
       "      <td>1996</td>\n",
       "      <td>3.44</td>\n",
       "      <td>708258.0</td>\n",
       "      <td>575259.0</td>\n",
       "      <td>149492.0</td>\n",
       "      <td>2</td>\n",
       "      <td>2</td>\n",
       "      <td>...</td>\n",
       "      <td>21926</td>\n",
       "      <td>21926</td>\n",
       "      <td>0</td>\n",
       "      <td>0</td>\n",
       "      <td>1</td>\n",
       "      <td>0</td>\n",
       "      <td>0</td>\n",
       "      <td>0</td>\n",
       "      <td>0</td>\n",
       "      <td>0</td>\n",
       "    </tr>\n",
       "    <tr>\n",
       "      <th>5240</th>\n",
       "      <td>11320</td>\n",
       "      <td>Samurai</td>\n",
       "      <td>abstract strategy game japanese warrior chrome...</td>\n",
       "      <td>1975</td>\n",
       "      <td>2.50</td>\n",
       "      <td>61087.0</td>\n",
       "      <td>551543.0</td>\n",
       "      <td>141772.0</td>\n",
       "      <td>2</td>\n",
       "      <td>2</td>\n",
       "      <td>...</td>\n",
       "      <td>21926</td>\n",
       "      <td>21926</td>\n",
       "      <td>0</td>\n",
       "      <td>0</td>\n",
       "      <td>0</td>\n",
       "      <td>0</td>\n",
       "      <td>0</td>\n",
       "      <td>1</td>\n",
       "      <td>0</td>\n",
       "      <td>0</td>\n",
       "    </tr>\n",
       "  </tbody>\n",
       "</table>\n",
       "<p>3 rows × 48 columns</p>\n",
       "</div>"
      ],
      "text/plain": [
       "      BGGId     Name                                        Description  \\\n",
       "2         3  Samurai  samurai set medieval japan player compete gain...   \n",
       "2125   3061  Samurai  gmt websitesamurai fifth entry awardwinne grea...   \n",
       "5240  11320  Samurai  abstract strategy game japanese warrior chrome...   \n",
       "\n",
       "      YearPublished  GameWeight  AvgRating  BayesAvgRating    StdDev  \\\n",
       "2              1998    24859.00   745601.0        723994.0  118227.0   \n",
       "2125           1996        3.44   708258.0        575259.0  149492.0   \n",
       "5240           1975        2.50    61087.0        551543.0  141772.0   \n",
       "\n",
       "      MinPlayers  MaxPlayers  ...  Rank:partygames  Rank:childrensgames  \\\n",
       "2              2           4  ...            21926                21926   \n",
       "2125           2           2  ...            21926                21926   \n",
       "5240           2           2  ...            21926                21926   \n",
       "\n",
       "      Cat:Thematic Cat:Strategy  Cat:War  Cat:Family  Cat:CGS  Cat:Abstract  \\\n",
       "2                0            1        0           0        0             0   \n",
       "2125             0            0        1           0        0             0   \n",
       "5240             0            0        0           0        0             1   \n",
       "\n",
       "      Cat:Party  Cat:Childrens  \n",
       "2             0              0  \n",
       "2125          0              0  \n",
       "5240          0              0  \n",
       "\n",
       "[3 rows x 48 columns]"
      ]
     },
     "execution_count": 4,
     "metadata": {},
     "output_type": "execute_result"
    }
   ],
   "source": [
    "# Noticed that there are repetitions of games names in the games_df, but with different BGGId, testing this with name 'Samurai'\n",
    "\n",
    "games_df[games_df['Name']== 'Samurai']"
   ]
  },
  {
   "cell_type": "code",
   "execution_count": 5,
   "id": "07dcf945",
   "metadata": {},
   "outputs": [
    {
     "data": {
      "text/plain": [
       "21925"
      ]
     },
     "execution_count": 5,
     "metadata": {},
     "output_type": "execute_result"
    }
   ],
   "source": [
    "# BGGId are unique identifiers of each game in games_df\n",
    "len(games_df['BGGId'].unique())"
   ]
  },
  {
   "cell_type": "code",
   "execution_count": 6,
   "id": "d54ae9e8",
   "metadata": {},
   "outputs": [],
   "source": [
    "from sklearn.feature_extraction.text import TfidfVectorizer\n",
    "\n",
    "tfv = TfidfVectorizer(min_df=3, max_features=None, \n",
    "                      strip_accents='unicode', analyzer='word', token_pattern=r'\\w{1,}',\n",
    "                      ngram_range=(1,3), stop_words='english')\n",
    "\n",
    "# Filling NaNs in \"Description\" with empty string\n",
    "games_df[\"Description\"]=games_df['Description'].fillna('')\n",
    "\n",
    "# Fitting the TF-IDF on the \"Description\" text\n",
    "tfv_matrix = tfv.fit_transform(games_df[\"Description\"])"
   ]
  },
  {
   "cell_type": "code",
   "execution_count": 7,
   "id": "5be43e2f",
   "metadata": {},
   "outputs": [
    {
     "data": {
      "text/plain": [
       "<21925x154740 sparse matrix of type '<class 'numpy.float64'>'\n",
       "\twith 2339369 stored elements in Compressed Sparse Row format>"
      ]
     },
     "execution_count": 7,
     "metadata": {},
     "output_type": "execute_result"
    }
   ],
   "source": [
    "tfv_matrix"
   ]
  },
  {
   "cell_type": "code",
   "execution_count": 8,
   "id": "0846975a",
   "metadata": {},
   "outputs": [
    {
     "data": {
      "text/plain": [
       "(21925, 154740)"
      ]
     },
     "execution_count": 8,
     "metadata": {},
     "output_type": "execute_result"
    }
   ],
   "source": [
    "tfv_matrix.shape"
   ]
  },
  {
   "cell_type": "code",
   "execution_count": 9,
   "id": "f71e1307",
   "metadata": {},
   "outputs": [],
   "source": [
    "from sklearn.metrics.pairwise import sigmoid_kernel\n",
    "\n",
    "# Compute the sigmoid_kernel (logistic regression)\n",
    "sig=sigmoid_kernel(tfv_matrix,tfv_matrix)"
   ]
  },
  {
   "cell_type": "code",
   "execution_count": 10,
   "id": "3385e561",
   "metadata": {},
   "outputs": [
    {
     "data": {
      "text/plain": [
       "array([0.76159687, 0.76159423, 0.76159418, ..., 0.76159418, 0.76159424,\n",
       "       0.76159417])"
      ]
     },
     "execution_count": 10,
     "metadata": {},
     "output_type": "execute_result"
    }
   ],
   "source": [
    "sig[0] #similarity metrics of game index 0 with other games"
   ]
  },
  {
   "cell_type": "code",
   "execution_count": 11,
   "id": "a18ce886",
   "metadata": {},
   "outputs": [],
   "source": [
    "# Reversing mapping of game name and game BGGId\n",
    "indices = pd.Series(games_df.index, index=games_df['BGGId'])"
   ]
  },
  {
   "cell_type": "code",
   "execution_count": 12,
   "id": "9e8fcdf8",
   "metadata": {},
   "outputs": [
    {
     "data": {
      "text/plain": [
       "BGGId\n",
       "1             0\n",
       "2             1\n",
       "3             2\n",
       "4             3\n",
       "5             4\n",
       "          ...  \n",
       "347146    21920\n",
       "347521    21921\n",
       "348955    21922\n",
       "349131    21923\n",
       "349161    21924\n",
       "Length: 21925, dtype: int64"
      ]
     },
     "execution_count": 12,
     "metadata": {},
     "output_type": "execute_result"
    }
   ],
   "source": [
    "indices"
   ]
  },
  {
   "cell_type": "code",
   "execution_count": 13,
   "id": "de75b9bb",
   "metadata": {},
   "outputs": [],
   "source": [
    "def give_rec(BGGId,sig=sig):\n",
    "    \n",
    "    # Get the index corresponding to original name\n",
    "    idx=indices[BGGId]\n",
    "    \n",
    "    # Get the pairwise similarity scores\n",
    "    sig_scores = list(enumerate(sig[idx]))\n",
    "    \n",
    "    # Sort the games\n",
    "    sig_scores = sorted(sig_scores, key=lambda x: x[1], reverse=True)\n",
    "    \n",
    "    # Scores of the 10 most similar games\n",
    "    sig_scores = sig_scores[1:11]\n",
    "    \n",
    "    # Game indices\n",
    "    game_indices = [i[0] for i in sig_scores]\n",
    "    \n",
    "    # Top 10 most similar games\n",
    "    return games_df['Name'].iloc[game_indices]\n",
    "    "
   ]
  },
  {
   "cell_type": "code",
   "execution_count": 14,
   "id": "bd1b8c71",
   "metadata": {},
   "outputs": [
    {
     "data": {
      "text/plain": [
       "18568                                            Rice Dice\n",
       "12917                            Spirits of the Rice Paddy\n",
       "19093                                      Seasons of Rice\n",
       "9710                                    Seven Card Samurai\n",
       "8323                                                 Bluff\n",
       "11647                                         Seven Swords\n",
       "11178                                                  Edo\n",
       "10779                                        Seven Sisters\n",
       "59       Samurai: Game of Politics and Warfare in Feuda...\n",
       "13796                                            Takamatsu\n",
       "Name: Name, dtype: object"
      ]
     },
     "execution_count": 14,
     "metadata": {},
     "output_type": "execute_result"
    }
   ],
   "source": [
    "# Testing content-based recommendation system with input of BGGId\n",
    "# BGGId 3 corresponds to the game name 'Samurai', which is exactly the name of three different games in games_df\n",
    "give_rec(3)\n",
    "\n",
    "# returns the top 10 most similar games to the one you enter in the function with their corresponding indices in the games_df "
   ]
  },
  {
   "cell_type": "code",
   "execution_count": 15,
   "id": "1ae5ea31",
   "metadata": {},
   "outputs": [
    {
     "data": {
      "text/html": [
       "<div>\n",
       "<style scoped>\n",
       "    .dataframe tbody tr th:only-of-type {\n",
       "        vertical-align: middle;\n",
       "    }\n",
       "\n",
       "    .dataframe tbody tr th {\n",
       "        vertical-align: top;\n",
       "    }\n",
       "\n",
       "    .dataframe thead th {\n",
       "        text-align: right;\n",
       "    }\n",
       "</style>\n",
       "<table border=\"1\" class=\"dataframe\">\n",
       "  <thead>\n",
       "    <tr style=\"text-align: right;\">\n",
       "      <th></th>\n",
       "      <th>BGGId</th>\n",
       "      <th>Name</th>\n",
       "      <th>Description</th>\n",
       "      <th>YearPublished</th>\n",
       "      <th>GameWeight</th>\n",
       "      <th>AvgRating</th>\n",
       "      <th>BayesAvgRating</th>\n",
       "      <th>StdDev</th>\n",
       "      <th>MinPlayers</th>\n",
       "      <th>MaxPlayers</th>\n",
       "      <th>...</th>\n",
       "      <th>Rank:partygames</th>\n",
       "      <th>Rank:childrensgames</th>\n",
       "      <th>Cat:Thematic</th>\n",
       "      <th>Cat:Strategy</th>\n",
       "      <th>Cat:War</th>\n",
       "      <th>Cat:Family</th>\n",
       "      <th>Cat:CGS</th>\n",
       "      <th>Cat:Abstract</th>\n",
       "      <th>Cat:Party</th>\n",
       "      <th>Cat:Childrens</th>\n",
       "    </tr>\n",
       "  </thead>\n",
       "  <tbody>\n",
       "    <tr>\n",
       "      <th>2</th>\n",
       "      <td>3</td>\n",
       "      <td>Samurai</td>\n",
       "      <td>samurai set medieval japan player compete gain...</td>\n",
       "      <td>1998</td>\n",
       "      <td>24859.00</td>\n",
       "      <td>745601.0</td>\n",
       "      <td>723994.0</td>\n",
       "      <td>118227.0</td>\n",
       "      <td>2</td>\n",
       "      <td>4</td>\n",
       "      <td>...</td>\n",
       "      <td>21926</td>\n",
       "      <td>21926</td>\n",
       "      <td>0</td>\n",
       "      <td>1</td>\n",
       "      <td>0</td>\n",
       "      <td>0</td>\n",
       "      <td>0</td>\n",
       "      <td>0</td>\n",
       "      <td>0</td>\n",
       "      <td>0</td>\n",
       "    </tr>\n",
       "    <tr>\n",
       "      <th>2125</th>\n",
       "      <td>3061</td>\n",
       "      <td>Samurai</td>\n",
       "      <td>gmt websitesamurai fifth entry awardwinne grea...</td>\n",
       "      <td>1996</td>\n",
       "      <td>3.44</td>\n",
       "      <td>708258.0</td>\n",
       "      <td>575259.0</td>\n",
       "      <td>149492.0</td>\n",
       "      <td>2</td>\n",
       "      <td>2</td>\n",
       "      <td>...</td>\n",
       "      <td>21926</td>\n",
       "      <td>21926</td>\n",
       "      <td>0</td>\n",
       "      <td>0</td>\n",
       "      <td>1</td>\n",
       "      <td>0</td>\n",
       "      <td>0</td>\n",
       "      <td>0</td>\n",
       "      <td>0</td>\n",
       "      <td>0</td>\n",
       "    </tr>\n",
       "    <tr>\n",
       "      <th>5240</th>\n",
       "      <td>11320</td>\n",
       "      <td>Samurai</td>\n",
       "      <td>abstract strategy game japanese warrior chrome...</td>\n",
       "      <td>1975</td>\n",
       "      <td>2.50</td>\n",
       "      <td>61087.0</td>\n",
       "      <td>551543.0</td>\n",
       "      <td>141772.0</td>\n",
       "      <td>2</td>\n",
       "      <td>2</td>\n",
       "      <td>...</td>\n",
       "      <td>21926</td>\n",
       "      <td>21926</td>\n",
       "      <td>0</td>\n",
       "      <td>0</td>\n",
       "      <td>0</td>\n",
       "      <td>0</td>\n",
       "      <td>0</td>\n",
       "      <td>1</td>\n",
       "      <td>0</td>\n",
       "      <td>0</td>\n",
       "    </tr>\n",
       "  </tbody>\n",
       "</table>\n",
       "<p>3 rows × 48 columns</p>\n",
       "</div>"
      ],
      "text/plain": [
       "      BGGId     Name                                        Description  \\\n",
       "2         3  Samurai  samurai set medieval japan player compete gain...   \n",
       "2125   3061  Samurai  gmt websitesamurai fifth entry awardwinne grea...   \n",
       "5240  11320  Samurai  abstract strategy game japanese warrior chrome...   \n",
       "\n",
       "      YearPublished  GameWeight  AvgRating  BayesAvgRating    StdDev  \\\n",
       "2              1998    24859.00   745601.0        723994.0  118227.0   \n",
       "2125           1996        3.44   708258.0        575259.0  149492.0   \n",
       "5240           1975        2.50    61087.0        551543.0  141772.0   \n",
       "\n",
       "      MinPlayers  MaxPlayers  ...  Rank:partygames  Rank:childrensgames  \\\n",
       "2              2           4  ...            21926                21926   \n",
       "2125           2           2  ...            21926                21926   \n",
       "5240           2           2  ...            21926                21926   \n",
       "\n",
       "      Cat:Thematic Cat:Strategy  Cat:War  Cat:Family  Cat:CGS  Cat:Abstract  \\\n",
       "2                0            1        0           0        0             0   \n",
       "2125             0            0        1           0        0             0   \n",
       "5240             0            0        0           0        0             1   \n",
       "\n",
       "      Cat:Party  Cat:Childrens  \n",
       "2             0              0  \n",
       "2125          0              0  \n",
       "5240          0              0  \n",
       "\n",
       "[3 rows x 48 columns]"
      ]
     },
     "execution_count": 15,
     "metadata": {},
     "output_type": "execute_result"
    }
   ],
   "source": [
    "games_df[games_df['Name']=='Samurai']"
   ]
  },
  {
   "cell_type": "code",
   "execution_count": 16,
   "id": "7634c58f",
   "metadata": {},
   "outputs": [
    {
     "data": {
      "text/plain": [
       "16820                                          Tenkatoitsu\n",
       "5232                                      Devil's Horsemen\n",
       "6923                                                   RAN\n",
       "4195     Risorgimento 1859: the Second Italian War of I...\n",
       "2264     Prussia's Glory: The Battles of Frederick the ...\n",
       "7335                  Sekigahara: The Unification of Japan\n",
       "1375                                            Cataphract\n",
       "16424                                        Azuchi Castle\n",
       "5763                         Carthage: The First Punic War\n",
       "7681      A Most Dangerous Time: Japan in Chaos, 1570-1584\n",
       "Name: Name, dtype: object"
      ]
     },
     "execution_count": 16,
     "metadata": {},
     "output_type": "execute_result"
    }
   ],
   "source": [
    "give_rec(3061)"
   ]
  },
  {
   "cell_type": "code",
   "execution_count": 17,
   "id": "a2451193",
   "metadata": {},
   "outputs": [
    {
     "data": {
      "text/plain": [
       "13796                                      Takamatsu\n",
       "18901                 Swordcrafters Expanded Edition\n",
       "18339                                  Swordcrafters\n",
       "17539                                Bushido Breaker\n",
       "11178                                            Edo\n",
       "11647                                   Seven Swords\n",
       "9710                              Seven Card Samurai\n",
       "17107    Test of Honour: The Samurai Miniatures Game\n",
       "10699                                 Sake & Samurai\n",
       "14090                                       HexAgony\n",
       "Name: Name, dtype: object"
      ]
     },
     "execution_count": 17,
     "metadata": {},
     "output_type": "execute_result"
    }
   ],
   "source": [
    "give_rec(11320)"
   ]
  },
  {
   "cell_type": "code",
   "execution_count": null,
   "id": "fb08f838",
   "metadata": {},
   "outputs": [],
   "source": []
  }
 ],
 "metadata": {
  "hide_input": false,
  "kernelspec": {
   "display_name": "Python 3 (ipykernel)",
   "language": "python",
   "name": "python3"
  },
  "language_info": {
   "codemirror_mode": {
    "name": "ipython",
    "version": 3
   },
   "file_extension": ".py",
   "mimetype": "text/x-python",
   "name": "python",
   "nbconvert_exporter": "python",
   "pygments_lexer": "ipython3",
   "version": "3.9.12"
  },
  "toc": {
   "base_numbering": 1,
   "nav_menu": {},
   "number_sections": true,
   "sideBar": true,
   "skip_h1_title": false,
   "title_cell": "Table of Contents",
   "title_sidebar": "Contents",
   "toc_cell": false,
   "toc_position": {},
   "toc_section_display": true,
   "toc_window_display": false
  }
 },
 "nbformat": 4,
 "nbformat_minor": 5
}
